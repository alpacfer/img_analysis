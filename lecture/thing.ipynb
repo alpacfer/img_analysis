{
 "cells": [
  {
   "cell_type": "code",
   "execution_count": 3,
   "metadata": {},
   "outputs": [
    {
     "name": "stdout",
     "output_type": "stream",
     "text": [
      "0.9990102708804813\n"
     ]
    }
   ],
   "source": [
    "import numpy as np\n",
    "# Calculate the entropy of a mix. I have 13 green dots and 14 pink dots. The total is the sum of the two.\n",
    "# The entropy of the mix is the entropy of the green dots plus the entropy of the pink dots.\n",
    "\n",
    "green = 13\n",
    "pink = 14\n",
    "\n",
    "total = green + pink\n",
    "\n",
    "entropy = - (green/total) * np.log2(green/total) - (pink/total) * np.log2(pink/total)\n",
    "print(entropy)"
   ]
  },
  {
   "cell_type": "code",
   "execution_count": 4,
   "metadata": {},
   "outputs": [
    {
     "name": "stdout",
     "output_type": "stream",
     "text": [
      "[ 0.6 -0.2]\n"
     ]
    }
   ],
   "source": [
    "# Import numpy library\n",
    "import numpy as np\n",
    "\n",
    "# Define the function with 2 variables\n",
    "def f(x, y):\n",
    "    return x**2 + x*y + 3*y**2\n",
    "\n",
    "# Calculate the gradient of the function\n",
    "def grad_f(x, y):\n",
    "    return np.array([2*x + y, x + 6*y])\n",
    "\n",
    "# Step length\n",
    "alpha = 0.2\n",
    "\n",
    "# First step\n",
    "x = np.array([1, 0])\n",
    "\n",
    "# Calculate the next step using gradient descent\n",
    "x = x - alpha * grad_f(x[0], x[1])\n",
    "\n",
    "# Print the result\n",
    "print(x)"
   ]
  }
 ],
 "metadata": {
  "kernelspec": {
   "display_name": "course02502",
   "language": "python",
   "name": "python3"
  },
  "language_info": {
   "codemirror_mode": {
    "name": "ipython",
    "version": 3
   },
   "file_extension": ".py",
   "mimetype": "text/x-python",
   "name": "python",
   "nbconvert_exporter": "python",
   "pygments_lexer": "ipython3",
   "version": "3.9.17"
  }
 },
 "nbformat": 4,
 "nbformat_minor": 2
}
